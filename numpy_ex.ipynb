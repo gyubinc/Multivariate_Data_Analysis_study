{
 "cells": [
  {
   "cell_type": "code",
   "execution_count": 1,
   "id": "c9d4a4a2",
   "metadata": {},
   "outputs": [
    {
     "name": "stdout",
     "output_type": "stream",
     "text": [
      "[1. 2. 3. 4.]\n",
      "2.0\n"
     ]
    }
   ],
   "source": [
    "import numpy as np\n",
    "\n",
    "t_array = np.array([1,2,3,4], float)\n",
    "\n",
    "print(t_array)\n",
    "\n",
    "print(t_array[1])"
   ]
  },
  {
   "cell_type": "code",
   "execution_count": 2,
   "id": "5bfc58d5",
   "metadata": {},
   "outputs": [
    {
     "data": {
      "text/plain": [
       "dtype('float64')"
      ]
     },
     "execution_count": 2,
     "metadata": {},
     "output_type": "execute_result"
    }
   ],
   "source": [
    "t_array.dtype"
   ]
  },
  {
   "cell_type": "code",
   "execution_count": 3,
   "id": "177ea3ce",
   "metadata": {},
   "outputs": [
    {
     "data": {
      "text/plain": [
       "(4,)"
      ]
     },
     "execution_count": 3,
     "metadata": {},
     "output_type": "execute_result"
    }
   ],
   "source": [
    "t_array.shape"
   ]
  },
  {
   "cell_type": "code",
   "execution_count": 8,
   "id": "0d20ba29",
   "metadata": {},
   "outputs": [
    {
     "data": {
      "text/plain": [
       "(3, 4)"
      ]
     },
     "execution_count": 8,
     "metadata": {},
     "output_type": "execute_result"
    }
   ],
   "source": [
    "data = [[1,2,3,4], [2,3,4,5], [3,4,5,6]]\n",
    "\n",
    "a = np.array(data)\n",
    "\n",
    "a.shape"
   ]
  },
  {
   "cell_type": "code",
   "execution_count": null,
   "id": "34b1715b",
   "metadata": {},
   "outputs": [],
   "source": []
  },
  {
   "cell_type": "code",
   "execution_count": 5,
   "id": "4d2109a2",
   "metadata": {},
   "outputs": [
    {
     "data": {
      "text/plain": [
       "dtype('int32')"
      ]
     },
     "execution_count": 5,
     "metadata": {},
     "output_type": "execute_result"
    }
   ],
   "source": [
    "a.dtype"
   ]
  },
  {
   "cell_type": "code",
   "execution_count": 6,
   "id": "58eace77",
   "metadata": {},
   "outputs": [
    {
     "data": {
      "text/plain": [
       "(3, 4)"
      ]
     },
     "execution_count": 6,
     "metadata": {},
     "output_type": "execute_result"
    }
   ],
   "source": [
    "a.shape"
   ]
  },
  {
   "cell_type": "code",
   "execution_count": 9,
   "id": "4b6dc0c4",
   "metadata": {},
   "outputs": [
    {
     "data": {
      "text/plain": [
       "(2, 3, 4)"
      ]
     },
     "execution_count": 9,
     "metadata": {},
     "output_type": "execute_result"
    }
   ],
   "source": [
    "data = [[[1,2,3,4], [2,3,4,5], [3,4,5,6]], [[112,2,3,4],[2,3,4,5],[3,4,5,6]]]\n",
    "\n",
    "b = np.array(data)\n",
    "\n",
    "b.shape"
   ]
  },
  {
   "cell_type": "code",
   "execution_count": 13,
   "id": "909f3a6f",
   "metadata": {},
   "outputs": [
    {
     "name": "stdout",
     "output_type": "stream",
     "text": [
      "[[1 2 3 4]\n",
      " [2 3 4 5]]\n",
      "[1 2 3 4 2 3 4 5]\n"
     ]
    }
   ],
   "source": [
    "data_a = np.array([[1,2,3,4],[2,3,4,5]])\n",
    "print(data_a)\n",
    "\n",
    "data_b = np.array(data).reshape(8,)\n",
    "print(data_b)"
   ]
  },
  {
   "cell_type": "code",
   "execution_count": 14,
   "id": "86e3b9c2",
   "metadata": {},
   "outputs": [
    {
     "name": "stdout",
     "output_type": "stream",
     "text": [
      "[[1 2 3 4]\n",
      " [2 3 4 5]]\n",
      "[1 2 3 4 2 3 4 5]\n"
     ]
    }
   ],
   "source": [
    "data_a = np.array([[1,2,3,4],[2,3,4,5]])\n",
    "print(data_a)\n",
    "\n",
    "data_b = np.array(data_a).flatten()\n",
    "print(data_b)"
   ]
  },
  {
   "cell_type": "code",
   "execution_count": 17,
   "id": "f71546dd",
   "metadata": {},
   "outputs": [
    {
     "name": "stdout",
     "output_type": "stream",
     "text": [
      "[[1 2 3 4]\n",
      " [2 3 4 5]]\n",
      "4\n"
     ]
    }
   ],
   "source": [
    "data_a = np.array([[1,2,3,4],[2,3,4,5]])\n",
    "print(data_a)\n",
    "\n",
    "print(data_a[1,2])"
   ]
  },
  {
   "cell_type": "code",
   "execution_count": 18,
   "id": "a274dbcb",
   "metadata": {},
   "outputs": [
    {
     "name": "stdout",
     "output_type": "stream",
     "text": [
      "[[1 2 3 4]\n",
      " [2 3 4 5]]\n",
      "[[2 3 4]\n",
      " [3 4 5]]\n"
     ]
    }
   ],
   "source": [
    "data_a = np.array([[1,2,3,4],[2,3,4,5]])\n",
    "print(data_a)\n",
    "\n",
    "print(data_a[:, 1:]) #row는 모두, column은 1이상"
   ]
  },
  {
   "cell_type": "code",
   "execution_count": 19,
   "id": "767e5ce1",
   "metadata": {},
   "outputs": [
    {
     "name": "stdout",
     "output_type": "stream",
     "text": [
      "[[1 2 3 4]\n",
      " [2 3 4 5]]\n",
      "[[1 3]\n",
      " [2 4]]\n"
     ]
    }
   ],
   "source": [
    "data_a = np.array([[1,2,3,4],[2,3,4,5]])\n",
    "print(data_a)\n",
    "\n",
    "print(data_a[::1, ::2])"
   ]
  },
  {
   "cell_type": "code",
   "execution_count": 23,
   "id": "1f62e142",
   "metadata": {},
   "outputs": [
    {
     "name": "stdout",
     "output_type": "stream",
     "text": [
      "[0 1 2 3 4 5 6 7 8 9]\n",
      "True\n",
      "False\n"
     ]
    }
   ],
   "source": [
    "a = np.arange(10)\n",
    "print(a)\n",
    "\n",
    "print(np.any(a>5))\n",
    "\n",
    "print(np.all(a>1))"
   ]
  },
  {
   "cell_type": "code",
   "execution_count": 25,
   "id": "c404dea2",
   "metadata": {},
   "outputs": [
    {
     "name": "stdout",
     "output_type": "stream",
     "text": [
      "[0 1 2 3 4 5 6 7 8 9]\n"
     ]
    },
    {
     "data": {
      "text/plain": [
       "array([0, 0, 0, 0, 1, 1, 1, 1, 1, 1])"
      ]
     },
     "execution_count": 25,
     "metadata": {},
     "output_type": "execute_result"
    }
   ],
   "source": [
    "a = np.arange(10)\n",
    "print(a)\n",
    "\n",
    "np.where(a>3, 1, 0)"
   ]
  },
  {
   "cell_type": "code",
   "execution_count": 27,
   "id": "6f1254f3",
   "metadata": {},
   "outputs": [
    {
     "name": "stdout",
     "output_type": "stream",
     "text": [
      "[0 1 2 3 4 5 6 7 8 9]\n"
     ]
    },
    {
     "data": {
      "text/plain": [
       "array([4, 5, 6, 7, 8, 9])"
      ]
     },
     "execution_count": 27,
     "metadata": {},
     "output_type": "execute_result"
    }
   ],
   "source": [
    "a = np.arange(10)\n",
    "print(a)\n",
    "\n",
    "a[a > 3]"
   ]
  },
  {
   "cell_type": "code",
   "execution_count": 29,
   "id": "6492bf27",
   "metadata": {},
   "outputs": [
    {
     "data": {
      "text/plain": [
       "array([20, 40, 10, 30, 50, 40, 20])"
      ]
     },
     "execution_count": 29,
     "metadata": {},
     "output_type": "execute_result"
    }
   ],
   "source": [
    "a = np.array([10,20,30,40,50])\n",
    "b = np.array([1,3,0,2,4,3,1])\n",
    "\n",
    "a[b]"
   ]
  },
  {
   "cell_type": "code",
   "execution_count": null,
   "id": "079f8ffc",
   "metadata": {},
   "outputs": [],
   "source": []
  }
 ],
 "metadata": {
  "kernelspec": {
   "display_name": "Python 3 (ipykernel)",
   "language": "python",
   "name": "python3"
  },
  "language_info": {
   "codemirror_mode": {
    "name": "ipython",
    "version": 3
   },
   "file_extension": ".py",
   "mimetype": "text/x-python",
   "name": "python",
   "nbconvert_exporter": "python",
   "pygments_lexer": "ipython3",
   "version": "3.10.9"
  }
 },
 "nbformat": 4,
 "nbformat_minor": 5
}
