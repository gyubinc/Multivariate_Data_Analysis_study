{
 "cells": [
  {
   "cell_type": "code",
   "execution_count": 7,
   "id": "f5f5a8c4",
   "metadata": {},
   "outputs": [
    {
     "name": "stdout",
     "output_type": "stream",
     "text": [
      "hi'\n"
     ]
    }
   ],
   "source": [
    "a = 10\n",
    "b = 5\n",
    "a+b\n",
    "\n",
    "print(\"hi'\")"
   ]
  },
  {
   "cell_type": "code",
   "execution_count": 9,
   "id": "50b00d6a",
   "metadata": {},
   "outputs": [],
   "source": [
    "b = [1,2,3,4,5]\n",
    "a = [5,4,3,2,1]"
   ]
  },
  {
   "cell_type": "code",
   "execution_count": 10,
   "id": "72be187e",
   "metadata": {},
   "outputs": [
    {
     "name": "stdout",
     "output_type": "stream",
     "text": [
      "[1, 2, 3, 4, 5] \n",
      " [5, 4, 3, 2, 1]\n"
     ]
    }
   ],
   "source": [
    "print(b,'\\n', a)"
   ]
  },
  {
   "cell_type": "code",
   "execution_count": 11,
   "id": "c1191da7",
   "metadata": {},
   "outputs": [
    {
     "name": "stdout",
     "output_type": "stream",
     "text": [
      "[5, 4, 3, 2, 1] \n",
      " [5, 4, 3, 2, 1]\n"
     ]
    }
   ],
   "source": [
    "b = a\n",
    "print(b,'\\n', a)"
   ]
  },
  {
   "cell_type": "code",
   "execution_count": 14,
   "id": "0758b4a8",
   "metadata": {
    "scrolled": true
   },
   "outputs": [
    {
     "name": "stdout",
     "output_type": "stream",
     "text": [
      "[1, 2, 3, 4, 5] \n",
      " [1, 2, 3, 4, 5]\n"
     ]
    }
   ],
   "source": [
    "b.sort()\n",
    "print(b,'\\n', a)"
   ]
  },
  {
   "cell_type": "code",
   "execution_count": null,
   "id": "608fba35",
   "metadata": {},
   "outputs": [],
   "source": [
    "print('%s %s'%('one', 'two'))"
   ]
  },
  {
   "cell_type": "code",
   "execution_count": null,
   "id": "f497fa86",
   "metadata": {},
   "outputs": [],
   "source": [
    "print('{} {}'.format('one', 'two'))\n",
    "\n",
    "print('%d %d' %(1,2))\n",
    "\n",
    "print('{} {}'.format(1,2))"
   ]
  },
  {
   "cell_type": "code",
   "execution_count": 12,
   "id": "747e87bd",
   "metadata": {},
   "outputs": [
    {
     "name": "stdout",
     "output_type": "stream",
     "text": [
      "     Apple\n"
     ]
    }
   ],
   "source": [
    "print('{0:>10s}'.format('Apple'))"
   ]
  }
 ],
 "metadata": {
  "kernelspec": {
   "display_name": "Python 3 (ipykernel)",
   "language": "python",
   "name": "python3"
  },
  "language_info": {
   "codemirror_mode": {
    "name": "ipython",
    "version": 3
   },
   "file_extension": ".py",
   "mimetype": "text/x-python",
   "name": "python",
   "nbconvert_exporter": "python",
   "pygments_lexer": "ipython3",
   "version": "3.10.9"
  }
 },
 "nbformat": 4,
 "nbformat_minor": 5
}
