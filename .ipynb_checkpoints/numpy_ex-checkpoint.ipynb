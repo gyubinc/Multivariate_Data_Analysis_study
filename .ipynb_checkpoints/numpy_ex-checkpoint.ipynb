{
 "cells": [
  {
   "cell_type": "code",
   "execution_count": 1,
   "id": "03e71349",
   "metadata": {},
   "outputs": [
    {
     "name": "stdout",
     "output_type": "stream",
     "text": [
      "[1. 2. 3. 4.]\n",
      "2.0\n"
     ]
    }
   ],
   "source": [
    "import numpy as np\n",
    "\n",
    "t_array = np.array([1,2,3,4], float)\n",
    "\n",
    "print(t_array)\n",
    "\n",
    "print(t_array[1])"
   ]
  },
  {
   "cell_type": "code",
   "execution_count": 2,
   "id": "a2ce4e50",
   "metadata": {},
   "outputs": [
    {
     "data": {
      "text/plain": [
       "dtype('float64')"
      ]
     },
     "execution_count": 2,
     "metadata": {},
     "output_type": "execute_result"
    }
   ],
   "source": [
    "t_array.dtype"
   ]
  },
  {
   "cell_type": "code",
   "execution_count": 3,
   "id": "c68a7665",
   "metadata": {},
   "outputs": [
    {
     "data": {
      "text/plain": [
       "(4,)"
      ]
     },
     "execution_count": 3,
     "metadata": {},
     "output_type": "execute_result"
    }
   ],
   "source": [
    "t_array.shape"
   ]
  },
  {
   "cell_type": "code",
   "execution_count": 8,
   "id": "edb3f899",
   "metadata": {},
   "outputs": [
    {
     "data": {
      "text/plain": [
       "(3, 4)"
      ]
     },
     "execution_count": 8,
     "metadata": {},
     "output_type": "execute_result"
    }
   ],
   "source": [
    "data = [[1,2,3,4], [2,3,4,5], [3,4,5,6]]\n",
    "\n",
    "a = np.array(data)\n",
    "\n",
    "a.shape"
   ]
  },
  {
   "cell_type": "code",
   "execution_count": null,
   "id": "acda3b05",
   "metadata": {},
   "outputs": [],
   "source": []
  },
  {
   "cell_type": "code",
   "execution_count": 5,
   "id": "6561aed6",
   "metadata": {},
   "outputs": [
    {
     "data": {
      "text/plain": [
       "dtype('int32')"
      ]
     },
     "execution_count": 5,
     "metadata": {},
     "output_type": "execute_result"
    }
   ],
   "source": [
    "a.dtype"
   ]
  },
  {
   "cell_type": "code",
   "execution_count": 6,
   "id": "a0f3106f",
   "metadata": {},
   "outputs": [
    {
     "data": {
      "text/plain": [
       "(3, 4)"
      ]
     },
     "execution_count": 6,
     "metadata": {},
     "output_type": "execute_result"
    }
   ],
   "source": [
    "a.shape"
   ]
  },
  {
   "cell_type": "code",
   "execution_count": 9,
   "id": "048c7493",
   "metadata": {},
   "outputs": [
    {
     "data": {
      "text/plain": [
       "(2, 3, 4)"
      ]
     },
     "execution_count": 9,
     "metadata": {},
     "output_type": "execute_result"
    }
   ],
   "source": [
    "data = [[[1,2,3,4], [2,3,4,5], [3,4,5,6]], [[112,2,3,4],[2,3,4,5],[3,4,5,6]]]\n",
    "\n",
    "b = np.array(data)\n",
    "\n",
    "b.shape"
   ]
  },
  {
   "cell_type": "code",
   "execution_count": 13,
   "id": "63739189",
   "metadata": {},
   "outputs": [
    {
     "name": "stdout",
     "output_type": "stream",
     "text": [
      "[[1 2 3 4]\n",
      " [2 3 4 5]]\n",
      "[1 2 3 4 2 3 4 5]\n"
     ]
    }
   ],
   "source": [
    "data_a = np.array([[1,2,3,4],[2,3,4,5]])\n",
    "print(data_a)\n",
    "\n",
    "data_b = np.array(data).reshape(8,)\n",
    "print(data_b)"
   ]
  },
  {
   "cell_type": "code",
   "execution_count": 14,
   "id": "1c084676",
   "metadata": {},
   "outputs": [
    {
     "name": "stdout",
     "output_type": "stream",
     "text": [
      "[[1 2 3 4]\n",
      " [2 3 4 5]]\n",
      "[1 2 3 4 2 3 4 5]\n"
     ]
    }
   ],
   "source": [
    "data_a = np.array([[1,2,3,4],[2,3,4,5]])\n",
    "print(data_a)\n",
    "\n",
    "data_b = np.array(data_a).flatten()\n",
    "print(data_b)"
   ]
  },
  {
   "cell_type": "code",
   "execution_count": 17,
   "id": "341474d4",
   "metadata": {},
   "outputs": [
    {
     "name": "stdout",
     "output_type": "stream",
     "text": [
      "[[1 2 3 4]\n",
      " [2 3 4 5]]\n",
      "4\n"
     ]
    }
   ],
   "source": [
    "data_a = np.array([[1,2,3,4],[2,3,4,5]])\n",
    "print(data_a)\n",
    "\n",
    "print(data_a[1,2])"
   ]
  },
  {
   "cell_type": "code",
   "execution_count": null,
   "id": "3b693b33",
   "metadata": {},
   "outputs": [],
   "source": []
  },
  {
   "cell_type": "code",
   "execution_count": null,
   "id": "1ad7ce98",
   "metadata": {},
   "outputs": [],
   "source": []
  },
  {
   "cell_type": "code",
   "execution_count": null,
   "id": "5bcc2ba5",
   "metadata": {},
   "outputs": [],
   "source": []
  }
 ],
 "metadata": {
  "kernelspec": {
   "display_name": "Python 3 (ipykernel)",
   "language": "python",
   "name": "python3"
  },
  "language_info": {
   "codemirror_mode": {
    "name": "ipython",
    "version": 3
   },
   "file_extension": ".py",
   "mimetype": "text/x-python",
   "name": "python",
   "nbconvert_exporter": "python",
   "pygments_lexer": "ipython3",
   "version": "3.10.9"
  }
 },
 "nbformat": 4,
 "nbformat_minor": 5
}
